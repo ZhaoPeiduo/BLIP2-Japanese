{
 "cells": [
  {
   "cell_type": "code",
   "execution_count": 1,
   "metadata": {},
   "outputs": [
    {
     "name": "stderr",
     "output_type": "stream",
     "text": [
      "c:\\Users\\Zhao Peiduo\\Envs\\blip\\lib\\site-packages\\tqdm\\auto.py:21: TqdmWarning: IProgress not found. Please update jupyter and ipywidgets. See https://ipywidgets.readthedocs.io/en/stable/user_install.html\n",
      "  from .autonotebook import tqdm as notebook_tqdm\n"
     ]
    },
    {
     "ename": "ModuleNotFoundError",
     "evalue": "No module named 'pycocoevalcap'",
     "output_type": "error",
     "traceback": [
      "\u001b[1;31m---------------------------------------------------------------------------\u001b[0m",
      "\u001b[1;31mModuleNotFoundError\u001b[0m                       Traceback (most recent call last)",
      "Cell \u001b[1;32mIn[1], line 2\u001b[0m\n\u001b[0;32m      1\u001b[0m \u001b[39mfrom\u001b[39;00m \u001b[39mtransformers\u001b[39;00m \u001b[39mimport\u001b[39;00m BertConfig, BertModel\n\u001b[1;32m----> 2\u001b[0m \u001b[39mfrom\u001b[39;00m \u001b[39mlavis\u001b[39;00m\u001b[39m.\u001b[39;00m\u001b[39mmodels\u001b[39;00m\u001b[39m.\u001b[39;00m\u001b[39mblip2_models\u001b[39;00m\u001b[39m.\u001b[39;00m\u001b[39mQformer\u001b[39;00m \u001b[39mimport\u001b[39;00m BertLMHeadModel\n\u001b[0;32m      4\u001b[0m \u001b[39m# Initializing a BERT bert-base-uncased style configuration\u001b[39;00m\n\u001b[0;32m      5\u001b[0m encoder_config \u001b[39m=\u001b[39m BertConfig\u001b[39m.\u001b[39mfrom_pretrained(\u001b[39m\"\u001b[39m\u001b[39mbert-base-uncased\u001b[39m\u001b[39m\"\u001b[39m)\n",
      "File \u001b[1;32mc:\\Users\\Zhao Peiduo\\Desktop\\LAVIS\\lavis\\__init__.py:16\u001b[0m\n\u001b[0;32m     13\u001b[0m \u001b[39mfrom\u001b[39;00m \u001b[39mlavis\u001b[39;00m\u001b[39m.\u001b[39;00m\u001b[39mcommon\u001b[39;00m\u001b[39m.\u001b[39;00m\u001b[39mregistry\u001b[39;00m \u001b[39mimport\u001b[39;00m registry\n\u001b[0;32m     15\u001b[0m \u001b[39mfrom\u001b[39;00m \u001b[39mlavis\u001b[39;00m\u001b[39m.\u001b[39;00m\u001b[39mdatasets\u001b[39;00m\u001b[39m.\u001b[39;00m\u001b[39mbuilders\u001b[39;00m \u001b[39mimport\u001b[39;00m \u001b[39m*\u001b[39m\n\u001b[1;32m---> 16\u001b[0m \u001b[39mfrom\u001b[39;00m \u001b[39mlavis\u001b[39;00m\u001b[39m.\u001b[39;00m\u001b[39mmodels\u001b[39;00m \u001b[39mimport\u001b[39;00m \u001b[39m*\u001b[39m\n\u001b[0;32m     17\u001b[0m \u001b[39mfrom\u001b[39;00m \u001b[39mlavis\u001b[39;00m\u001b[39m.\u001b[39;00m\u001b[39mprocessors\u001b[39;00m \u001b[39mimport\u001b[39;00m \u001b[39m*\u001b[39m\n\u001b[0;32m     18\u001b[0m \u001b[39mfrom\u001b[39;00m \u001b[39mlavis\u001b[39;00m\u001b[39m.\u001b[39;00m\u001b[39mtasks\u001b[39;00m \u001b[39mimport\u001b[39;00m \u001b[39m*\u001b[39m\n",
      "File \u001b[1;32mc:\\Users\\Zhao Peiduo\\Desktop\\LAVIS\\lavis\\models\\__init__.py:31\u001b[0m\n\u001b[0;32m     28\u001b[0m \u001b[39mfrom\u001b[39;00m \u001b[39mlavis\u001b[39;00m\u001b[39m.\u001b[39;00m\u001b[39mmodels\u001b[39;00m\u001b[39m.\u001b[39;00m\u001b[39mblip2_models\u001b[39;00m\u001b[39m.\u001b[39;00m\u001b[39mblip2_qformer\u001b[39;00m \u001b[39mimport\u001b[39;00m Blip2Qformer\n\u001b[0;32m     29\u001b[0m \u001b[39mfrom\u001b[39;00m \u001b[39mlavis\u001b[39;00m\u001b[39m.\u001b[39;00m\u001b[39mmodels\u001b[39;00m\u001b[39m.\u001b[39;00m\u001b[39mblip2_models\u001b[39;00m\u001b[39m.\u001b[39;00m\u001b[39mblip2_image_text_matching\u001b[39;00m \u001b[39mimport\u001b[39;00m Blip2ITM\n\u001b[1;32m---> 31\u001b[0m \u001b[39mfrom\u001b[39;00m \u001b[39mlavis\u001b[39;00m\u001b[39m.\u001b[39;00m\u001b[39mmodels\u001b[39;00m\u001b[39m.\u001b[39;00m\u001b[39mclip_models\u001b[39;00m\u001b[39m.\u001b[39;00m\u001b[39mmodel\u001b[39;00m \u001b[39mimport\u001b[39;00m CLIP\n\u001b[0;32m     33\u001b[0m \u001b[39mfrom\u001b[39;00m \u001b[39mlavis\u001b[39;00m\u001b[39m.\u001b[39;00m\u001b[39mprocessors\u001b[39;00m\u001b[39m.\u001b[39;00m\u001b[39mbase_processor\u001b[39;00m \u001b[39mimport\u001b[39;00m BaseProcessor\n\u001b[0;32m     36\u001b[0m __all__ \u001b[39m=\u001b[39m [\n\u001b[0;32m     37\u001b[0m     \u001b[39m\"\u001b[39m\u001b[39mload_model\u001b[39m\u001b[39m\"\u001b[39m,\n\u001b[0;32m     38\u001b[0m     \u001b[39m\"\u001b[39m\u001b[39mAlproRetrieval\u001b[39m\u001b[39m\"\u001b[39m,\n\u001b[1;32m   (...)\u001b[0m\n\u001b[0;32m     48\u001b[0m     \u001b[39m\"\u001b[39m\u001b[39mCLIP\u001b[39m\u001b[39m\"\u001b[39m,\n\u001b[0;32m     49\u001b[0m ]\n",
      "File \u001b[1;32mc:\\Users\\Zhao Peiduo\\Desktop\\LAVIS\\lavis\\models\\clip_models\\model.py:37\u001b[0m\n\u001b[0;32m     35\u001b[0m \u001b[39mfrom\u001b[39;00m \u001b[39mlavis\u001b[39;00m\u001b[39m.\u001b[39;00m\u001b[39mmodels\u001b[39;00m\u001b[39m.\u001b[39;00m\u001b[39mclip_models\u001b[39;00m\u001b[39m.\u001b[39;00m\u001b[39mtransform\u001b[39;00m \u001b[39mimport\u001b[39;00m image_transform\n\u001b[0;32m     36\u001b[0m \u001b[39mfrom\u001b[39;00m \u001b[39mlavis\u001b[39;00m\u001b[39m.\u001b[39;00m\u001b[39mmodels\u001b[39;00m\u001b[39m.\u001b[39;00m\u001b[39mclip_models\u001b[39;00m\u001b[39m.\u001b[39;00m\u001b[39mutils\u001b[39;00m \u001b[39mimport\u001b[39;00m freeze_batch_norm_2d\n\u001b[1;32m---> 37\u001b[0m \u001b[39mfrom\u001b[39;00m \u001b[39mlavis\u001b[39;00m\u001b[39m.\u001b[39;00m\u001b[39mtasks\u001b[39;00m\u001b[39m.\u001b[39;00m\u001b[39mmultimodal_classification\u001b[39;00m \u001b[39mimport\u001b[39;00m MultimodalClassificationTask\n\u001b[0;32m     38\u001b[0m \u001b[39mfrom\u001b[39;00m \u001b[39mtorch\u001b[39;00m \u001b[39mimport\u001b[39;00m nn\n\u001b[0;32m     40\u001b[0m \u001b[39mfrom\u001b[39;00m \u001b[39m.\u001b[39;00m\u001b[39mpretrained\u001b[39;00m \u001b[39mimport\u001b[39;00m (\n\u001b[0;32m     41\u001b[0m     download_pretrained,\n\u001b[0;32m     42\u001b[0m     get_pretrained_url,\n\u001b[0;32m     43\u001b[0m     list_pretrained_tag_models,\n\u001b[0;32m     44\u001b[0m )\n",
      "File \u001b[1;32mc:\\Users\\Zhao Peiduo\\Desktop\\LAVIS\\lavis\\tasks\\__init__.py:10\u001b[0m\n\u001b[0;32m      8\u001b[0m \u001b[39mfrom\u001b[39;00m \u001b[39mlavis\u001b[39;00m\u001b[39m.\u001b[39;00m\u001b[39mcommon\u001b[39;00m\u001b[39m.\u001b[39;00m\u001b[39mregistry\u001b[39;00m \u001b[39mimport\u001b[39;00m registry\n\u001b[0;32m      9\u001b[0m \u001b[39mfrom\u001b[39;00m \u001b[39mlavis\u001b[39;00m\u001b[39m.\u001b[39;00m\u001b[39mtasks\u001b[39;00m\u001b[39m.\u001b[39;00m\u001b[39mbase_task\u001b[39;00m \u001b[39mimport\u001b[39;00m BaseTask\n\u001b[1;32m---> 10\u001b[0m \u001b[39mfrom\u001b[39;00m \u001b[39mlavis\u001b[39;00m\u001b[39m.\u001b[39;00m\u001b[39mtasks\u001b[39;00m\u001b[39m.\u001b[39;00m\u001b[39mcaptioning\u001b[39;00m \u001b[39mimport\u001b[39;00m CaptionTask\n\u001b[0;32m     11\u001b[0m \u001b[39mfrom\u001b[39;00m \u001b[39mlavis\u001b[39;00m\u001b[39m.\u001b[39;00m\u001b[39mtasks\u001b[39;00m\u001b[39m.\u001b[39;00m\u001b[39mimage_text_pretrain\u001b[39;00m \u001b[39mimport\u001b[39;00m ImageTextPretrainTask\n\u001b[0;32m     12\u001b[0m \u001b[39mfrom\u001b[39;00m \u001b[39mlavis\u001b[39;00m\u001b[39m.\u001b[39;00m\u001b[39mtasks\u001b[39;00m\u001b[39m.\u001b[39;00m\u001b[39mmultimodal_classification\u001b[39;00m \u001b[39mimport\u001b[39;00m (\n\u001b[0;32m     13\u001b[0m     MultimodalClassificationTask,\n\u001b[0;32m     14\u001b[0m )\n",
      "File \u001b[1;32mc:\\Users\\Zhao Peiduo\\Desktop\\LAVIS\\lavis\\tasks\\captioning.py:104\u001b[0m\n\u001b[0;32m    100\u001b[0m         \u001b[39mreturn\u001b[39;00m coco_res\n\u001b[0;32m    103\u001b[0m \u001b[39m# TODO better structure for this.\u001b[39;00m\n\u001b[1;32m--> 104\u001b[0m \u001b[39mfrom\u001b[39;00m \u001b[39mpycocoevalcap\u001b[39;00m\u001b[39m.\u001b[39;00m\u001b[39meval\u001b[39;00m \u001b[39mimport\u001b[39;00m COCOEvalCap\n\u001b[0;32m    105\u001b[0m \u001b[39mfrom\u001b[39;00m \u001b[39mpycocotools\u001b[39;00m\u001b[39m.\u001b[39;00m\u001b[39mcoco\u001b[39;00m \u001b[39mimport\u001b[39;00m COCO\n\u001b[0;32m    106\u001b[0m \u001b[39mfrom\u001b[39;00m \u001b[39mtorchvision\u001b[39;00m\u001b[39m.\u001b[39;00m\u001b[39mdatasets\u001b[39;00m\u001b[39m.\u001b[39;00m\u001b[39mutils\u001b[39;00m \u001b[39mimport\u001b[39;00m download_url\n",
      "\u001b[1;31mModuleNotFoundError\u001b[0m: No module named 'pycocoevalcap'"
     ]
    }
   ],
   "source": [
    "from transformers import BertConfig, BertModel\n",
    "from lavis.models.blip2_models.Qformer import BertLMHeadModel\n",
    "\n",
    "# Initializing a BERT bert-base-uncased style configuration\n",
    "encoder_config = BertConfig.from_pretrained(\"bert-base-uncased\")\n",
    "Qformer = BertLMHeadModel.from_pretrained(\n",
    "    \"bert-base-uncased\", config=encoder_config\n",
    ")\n",
    "configuration = Qformer.config"
   ]
  }
 ],
 "metadata": {
  "kernelspec": {
   "display_name": "base",
   "language": "python",
   "name": "python3"
  },
  "language_info": {
   "codemirror_mode": {
    "name": "ipython",
    "version": 3
   },
   "file_extension": ".py",
   "mimetype": "text/x-python",
   "name": "python",
   "nbconvert_exporter": "python",
   "pygments_lexer": "ipython3",
   "version": "3.9.0"
  },
  "orig_nbformat": 4
 },
 "nbformat": 4,
 "nbformat_minor": 2
}
